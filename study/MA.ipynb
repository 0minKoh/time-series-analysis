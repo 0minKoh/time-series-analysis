{
 "cells": [
  {
   "cell_type": "markdown",
   "metadata": {},
   "source": [
    "# 이동평균 (MA, Moving Average)\n",
    "## 개요\n",
    "MA 모델은 과거 시점의 오차 항들이 현재 시점의 값에 영향을 준다고 가정하여, 과거의 오차 항들을 이용해 현재 값을 예측."
   ]
  },
  {
   "cell_type": "markdown",
   "metadata": {},
   "source": [
    "## 수식\n",
    "<img src=\"../assets/imgs/MA_math.png\">\n"
   ]
  }
 ],
 "metadata": {
  "language_info": {
   "name": "python"
  }
 },
 "nbformat": 4,
 "nbformat_minor": 2
}
