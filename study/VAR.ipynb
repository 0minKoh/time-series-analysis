{
 "cells": [
  {
   "cell_type": "markdown",
   "metadata": {},
   "source": [
    "# 벡터 자기 회귀 모형\n",
    "## 개요\n",
    "VAR 모델은 다변량 시계열 데이터를 분석할 때 사용되며, 여러 변수들이 서로 영향 (y <-> x)을 미칠 때 효과적임.\n",
    "\n",
    "예: 두 개 이상의 변수 간 상호 영향을 분석하고 예측할 때 사용 가능\n",
    "\n",
    "$$\n",
    "\\begin{bmatrix}\n",
    "y_t \\\\\n",
    "x_t\n",
    "\\end{bmatrix}\n",
    "=\n",
    "\\begin{bmatrix}\n",
    "c_1 \\\\\n",
    "c_2\n",
    "\\end{bmatrix}\n",
    "+\n",
    "\\begin{bmatrix}\n",
    "\\phi_{11} & \\phi_{12} \\\\\n",
    "\\phi_{21} & \\phi_{22}\n",
    "\\end{bmatrix}\n",
    "\\begin{bmatrix}\n",
    "y_{t-1} \\\\\n",
    "x_{t-1}\n",
    "\\end{bmatrix}\n",
    "+\n",
    "\\begin{bmatrix}\n",
    "\\epsilon_{y,t} \\\\\n",
    "\\epsilon_{x,t}\n",
    "\\end{bmatrix}\n",
    "$$\n",
    "\n"
   ]
  },
  {
   "cell_type": "markdown",
   "metadata": {},
   "source": [
    "## 수식\n",
    "<img src=\"../assets/imgs/ARIMA_math.png\">"
   ]
  }
 ],
 "metadata": {
  "language_info": {
   "name": "python"
  }
 },
 "nbformat": 4,
 "nbformat_minor": 2
}
