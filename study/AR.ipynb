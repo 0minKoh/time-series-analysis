{
 "cells": [
  {
   "cell_type": "markdown",
   "metadata": {},
   "source": [
    "# 자기회귀 (AR, Autoregressive)"
   ]
  },
  {
   "cell_type": "markdown",
   "metadata": {},
   "source": [
    "## 개요\n",
    "AR 모델은 이전 시점의 값들이 현재 시점의 값에 영향을 준다고 가정하여, 과거 값들을 이용해 현재 값을 예측하는 모델"
   ]
  },
  {
   "cell_type": "markdown",
   "metadata": {},
   "source": [
    "## 수식\n",
    "<img src=\"../assets/imgs/AR_math.png\" alt=\"AR\"/>"
   ]
  },
  {
   "cell_type": "code",
   "execution_count": null,
   "metadata": {},
   "outputs": [],
   "source": []
  },
  {
   "cell_type": "markdown",
   "metadata": {},
   "source": []
  },
  {
   "cell_type": "code",
   "execution_count": null,
   "metadata": {},
   "outputs": [],
   "source": []
  }
 ],
 "metadata": {
  "kernelspec": {
   "display_name": "Python 3.10.11 64-bit (microsoft store)",
   "language": "python",
   "name": "python3"
  },
  "language_info": {
   "name": "python",
   "version": "3.10.11"
  },
  "vscode": {
   "interpreter": {
    "hash": "aa6c5366524bf1679a7bb4644cb4dc182cb3704c6cd216b41788192629e40412"
   }
  }
 },
 "nbformat": 4,
 "nbformat_minor": 2
}
