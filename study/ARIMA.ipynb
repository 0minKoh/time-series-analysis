{
 "cells": [
  {
   "cell_type": "markdown",
   "metadata": {},
   "source": [
    "# 자기회귀 이동평균 통합 (ARIMA, Autoregressive Integrated Moving Average) 모델\n",
    "\n",
    "## 개요\n",
    "ARIMA 모델은 AR 모델과 MA 모델을 결합하고, **차분(differencing)**을 통해 **데이터의 정상성(stationarity)**을 확보한 후 예측하는 모델\n",
    "\n",
    "$ ARIMA(p, d, q) $ \n",
    "- p: AR 모델의 차수\n",
    "- d: 차분(differencing) 횟수\n",
    "  - 데이터를 정상 시계열로 만들기 위해 몇 번의 차분을 했는지\n",
    "- q: MA 모델의 차수\n",
    "\n",
    "- 예: ARIMA(2, 1, 2)\n",
    "    $$\n",
    "    y_t - y_{t-1} = \\phi_1 (y_{t-1} - y_{t-2}) + \\phi_2 (y_{t-2} - y_{t-3}) + \\theta_1 \\epsilon_{t-1} + \\theta_2 \\epsilon_{t-2} + \\epsilon_t\n",
    "    $$\n",
    "\n",
    "\n",
    "\n",
    "### 차분(differencing)이란?\n",
    "비정상 시계열을 정상 시계열로 변환하기 위해, 현재 시점의 값에서 이전 시점의 값을 빼는 연산\n",
    "\n",
    "<img src=\"../assets/imgs/ARIMA_diff_math.png\">\n",
    "\n",
    "- 비정상 시계열 (Non-stationary Time Series)\n",
    "시간에 따라 평균, 분산, 공분산 등의 통계적 특성이 변하는 시계열 데이터\n",
    "\n",
    "    예: 일정한 추세를 갖는 경우\n",
    "    ```markdown\n",
    "    월\t매출액(원)\n",
    "    1월\t100\n",
    "    2월\t150\n",
    "    3월\t200\n",
    "    4월\t250\n",
    "    5월\t300\n",
    "    ```\n",
    "\n",
    "- 정상 시계열 (Stationary Time Series)\n",
    "시간에 따라 평균, 분산, 공분산 등의 통계적 특성이 일정하게 유지되는 시계열 데이터\n",
    "  - 데이터가 시간에 따른 패턴 없이 일정한 범위 내에서 움직이며 변화하는 경우\n",
    "\n",
    "  예: 평균과 분산이 일정하게 유지되는 경우\n",
    "  ```markdown\n",
    "  매출액(원)\n",
    "  1일\t95\n",
    "  2일\t105\n",
    "  3일\t97\n",
    "  4일\t103\n",
    "  5일\t100\n",
    "  ```\n",
    "\n",
    "\n",
    "\n"
   ]
  },
  {
   "cell_type": "markdown",
   "metadata": {},
   "source": [
    "## 수식\n",
    "<img src=\"../assets/imgs/ARIMA_math.png\">\n",
    "\n"
   ]
  }
 ],
 "metadata": {
  "language_info": {
   "name": "python"
  }
 },
 "nbformat": 4,
 "nbformat_minor": 2
}
